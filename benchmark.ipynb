{
 "cells": [
  {
   "cell_type": "code",
   "execution_count": 1,
   "metadata": {},
   "outputs": [
    {
     "name": "stdout",
     "output_type": "stream",
     "text": [
      "hkcancor\n",
      "% correct: 60.2\n",
      "macro recall: 0.893\n",
      "micro recall: 0.871\n",
      "lee wong leung\n",
      "% correct: 56.8\n",
      "macro recall: 0.817\n",
      "micro recall: 0.788\n",
      "yip-matthews bilingual\n",
      "% correct: 44.4\n",
      "macro recall: 0.675\n",
      "micro recall: 0.6\n"
     ]
    }
   ],
   "source": [
    "from typing import List, Set, Tuple\n",
    "import pycantonese\n",
    "\n",
    "def get_segment_intervals(segments: List[str]) -> Set[Tuple[int, int]]:\n",
    "    \"\"\"\n",
    "    >>> get_segment_intervals(['廣東話', '容', '唔', '容易', '學', '？']) == {(0, 3), (3, 4), (4, 5), (5, 7), (7, 8), (8, 9)}\n",
    "    True\n",
    "    \"\"\"\n",
    "    intervals = set()\n",
    "    segment_start = 0\n",
    "    for segment in segments:\n",
    "        segment_end = segment_start + len(segment)\n",
    "        intervals.add((segment_start, segment_end))\n",
    "        segment_start = segment_end\n",
    "    return intervals\n",
    "\n",
    "def benchmark(utterances: List[List[str]]):\n",
    "    num_correct = 0\n",
    "    total_recall = 0\n",
    "    total_true_positives = 0\n",
    "    total_real_positives = 0\n",
    "    incorrect_segments = []\n",
    "    for reference_segments in utterances:\n",
    "        segments = pycantonese.segment(\"\".join(reference_segments))\n",
    "        if segments == reference_segments:\n",
    "            num_correct += 1\n",
    "        else:\n",
    "            incorrect_segments.append((reference_segments, segments))\n",
    "        reference_intervals = get_segment_intervals(reference_segments)\n",
    "        intervals = get_segment_intervals(segments)\n",
    "        true_positives = len(reference_intervals.intersection(intervals))\n",
    "        real_positives = len(reference_intervals)\n",
    "        total_true_positives += true_positives\n",
    "        total_real_positives += real_positives\n",
    "        total_recall += true_positives / real_positives\n",
    "\n",
    "    macro_recall = total_recall / len(utterances)\n",
    "    micro_recall = total_true_positives / total_real_positives\n",
    "    print(f\"% correct: {round(num_correct / len(utterances) * 100, 1)}\")\n",
    "    print(f\"macro recall: {round(macro_recall, 3)}\")\n",
    "    print(f\"micro recall: {round(micro_recall, 3)}\")\n",
    "    # print(\"Incorrect examples\")\n",
    "    # for (reference_segment, segment) in incorrect_segments[:100]:\n",
    "    #     print(\"reference:\", reference_segment)\n",
    "    #     print(\"incorrect:\", segment)\n",
    "    #     print()\n",
    "\n",
    "import doctest\n",
    "doctest.testmod()\n",
    "\n",
    "\n",
    "hkcancor = pycantonese.hkcancor()\n",
    "print(\"hkcancor\")\n",
    "benchmark(hkcancor.words(by_utterances = True))\n",
    "\n",
    "print(\"lee wong leung\")\n",
    "lee_wong_leung = pycantonese.read_chat(\"https://childes.talkbank.org/data/Chinese/Cantonese/LeeWongLeung.zip\")\n",
    "benchmark(lee_wong_leung.words(by_utterances = True))\n",
    "\n",
    "print(\"yip-matthews bilingual\")\n",
    "yip_matthews = pycantonese.read_chat(\"https://childes.talkbank.org/data/Biling/YipMatthews.zip\")\n",
    "benchmark(yip_matthews.words(by_utterances = True))"
   ]
  }
 ],
 "metadata": {
  "kernelspec": {
   "display_name": "Python 3",
   "language": "python",
   "name": "python3"
  },
  "language_info": {
   "codemirror_mode": {
    "name": "ipython",
    "version": 3
   },
   "file_extension": ".py",
   "mimetype": "text/x-python",
   "name": "python",
   "nbconvert_exporter": "python",
   "pygments_lexer": "ipython3",
   "version": "3.9.16"
  },
  "orig_nbformat": 4,
  "vscode": {
   "interpreter": {
    "hash": "80c3bf66c0121c5df7d5c2b7c369d4ed63307d1ea958ffea8718aac5beaa247f"
   }
  }
 },
 "nbformat": 4,
 "nbformat_minor": 2
}
